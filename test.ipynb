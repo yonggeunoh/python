{
  "nbformat": 4,
  "nbformat_minor": 0,
  "metadata": {
    "kernelspec": {
      "display_name": "Python 3",
      "language": "python",
      "name": "python3"
    },
    "language_info": {
      "codemirror_mode": {
        "name": "ipython",
        "version": 3
      },
      "file_extension": ".py",
      "mimetype": "text/x-python",
      "name": "python",
      "nbconvert_exporter": "python",
      "pygments_lexer": "ipython3",
      "version": "3.8.5"
    },
    "colab": {
      "name": "test.ipynb",
      "provenance": [],
      "include_colab_link": true
    }
  },
  "cells": [
    {
      "cell_type": "markdown",
      "metadata": {
        "id": "view-in-github",
        "colab_type": "text"
      },
      "source": [
        "<a href=\"https://colab.research.google.com/github/yonggeunoh/python/blob/master/test.ipynb\" target=\"_parent\"><img src=\"https://colab.research.google.com/assets/colab-badge.svg\" alt=\"Open In Colab\"/></a>"
      ]
    },
    {
      "cell_type": "markdown",
      "metadata": {
        "id": "6ro7zmPtNVku"
      },
      "source": [
        "# 파이썬 기초 과제"
      ]
    },
    {
      "cell_type": "markdown",
      "metadata": {
        "id": "dMTzBBKMNVkw"
      },
      "source": [
        "- 아래 각 문제에 대해 새로운 입력셀을 생성하고 파이썬 명령어를 실행하여 답안 작성\n",
        "- 파이썬 명령어와 실행 결과가 표시된 주피터노트북을 pdf 파일로 export('파일-인쇄-pdf로 저장')하여 제출\n",
        "- 파일 이름은 '파이썬 기초_이름_행번.pdf'로 저장"
      ]
    },
    {
      "cell_type": "markdown",
      "metadata": {
        "id": "vUmsa7PSNVkx"
      },
      "source": [
        "# 1. list comprehension 이용\n",
        "\n",
        "#### 아래 국가명 리스트와 연도 리스트를 이용하여 국가명_연도 문자열을 생성하라\n",
        "#### 아래 리스트와 인덱스를 이용하여 중국, 호주에 대해서만 국가명_연도 문자열을 생성하라"
      ]
    },
    {
      "cell_type": "code",
      "metadata": {
        "id": "4bqoC4JvNVkx"
      },
      "source": [
        "countries = ['KOR', 'USA', 'JPN', 'CHN', 'AUS', 'MEX']\n",
        "year = [17, 18, 19, 20]"
      ],
      "execution_count": 2,
      "outputs": []
    },
    {
      "cell_type": "code",
      "metadata": {
        "colab": {
          "base_uri": "https://localhost:8080/",
          "height": 0
        },
        "id": "YNO91DozLCgP",
        "outputId": "1f16dd75-87df-4ae9-d35b-77d36368b956"
      },
      "source": [
        "%pprint"
      ],
      "execution_count": 44,
      "outputs": [
        {
          "output_type": "stream",
          "name": "stdout",
          "text": [
            "Pretty printing has been turned OFF\n"
          ]
        }
      ]
    },
    {
      "cell_type": "code",
      "metadata": {
        "colab": {
          "base_uri": "https://localhost:8080/",
          "height": 0
        },
        "id": "EmLYP9BBsjHL",
        "outputId": "0bfc4d66-7ee2-4f57-e5dc-07fc5b451f0a"
      },
      "source": [
        "\n",
        "cy = [c + '_' + str(y) for c in countries for y in year]\n",
        "cy"
      ],
      "execution_count": 45,
      "outputs": [
        {
          "output_type": "execute_result",
          "data": {
            "text/plain": [
              "['KOR_17', 'KOR_18', 'KOR_19', 'KOR_20', 'USA_17', 'USA_18', 'USA_19', 'USA_20', 'JPN_17', 'JPN_18', 'JPN_19', 'JPN_20', 'CHN_17', 'CHN_18', 'CHN_19', 'CHN_20', 'AUS_17', 'AUS_18', 'AUS_19', 'AUS_20', 'MEX_17', 'MEX_18', 'MEX_19', 'MEX_20']"
            ]
          },
          "metadata": {},
          "execution_count": 45
        }
      ]
    },
    {
      "cell_type": "code",
      "metadata": {
        "colab": {
          "base_uri": "https://localhost:8080/",
          "height": 0
        },
        "id": "Ip-AphBEjxI9",
        "outputId": "fe822955-86d7-4879-ecda-fede4ee4e3fd"
      },
      "source": [
        "cy2 = [c + '_' + str(y) for c in countries if c  in ['CHN', 'AUS'] for y in year]\n",
        "cy2"
      ],
      "execution_count": 46,
      "outputs": [
        {
          "output_type": "execute_result",
          "data": {
            "text/plain": [
              "['CHN_17', 'CHN_18', 'CHN_19', 'CHN_20', 'AUS_17', 'AUS_18', 'AUS_19', 'AUS_20']"
            ]
          },
          "metadata": {},
          "execution_count": 46
        }
      ]
    },
    {
      "cell_type": "markdown",
      "metadata": {
        "id": "0htF0n_cNVkz"
      },
      "source": [
        "#### 아래 문자열 리스트에서 숫자로 이루어진 문자열(-5 포함)만 선택하여 리스트를 생성하라"
      ]
    },
    {
      "cell_type": "code",
      "metadata": {
        "id": "8erGfZJzNVkz",
        "colab": {
          "base_uri": "https://localhost:8080/",
          "height": 0
        },
        "outputId": "5bf72224-9168-4a99-96c0-dfccb8320854"
      },
      "source": [
        "strings = ['KOR', '한국', '15', \"True\", '1000', '-5']\n",
        "nums = [s for s in strings if s.strip('-').isnumeric()]\n",
        "nums"
      ],
      "execution_count": 47,
      "outputs": [
        {
          "output_type": "execute_result",
          "data": {
            "text/plain": [
              "['15', '1000', '-5']"
            ]
          },
          "metadata": {},
          "execution_count": 47
        }
      ]
    },
    {
      "cell_type": "markdown",
      "metadata": {
        "id": "R212tIyONVk1"
      },
      "source": [
        "# 2. 아래 국가명 리스트와 연도 리스트, for-loop, if-else 구문을 이용하여 국가명_연도 문자열을 생성하라"
      ]
    },
    {
      "cell_type": "code",
      "metadata": {
        "id": "RSfLkZfVNVk1"
      },
      "source": [
        "countries = ['KOR', 'USA', 'JPN', 'CHN', 'AUS', 'MEX']\n",
        "year = [17, 18, 19, 20]"
      ],
      "execution_count": 48,
      "outputs": []
    },
    {
      "cell_type": "code",
      "metadata": {
        "colab": {
          "base_uri": "https://localhost:8080/",
          "height": 0
        },
        "id": "VyZDBgMNlQbY",
        "outputId": "df6af14a-3048-44e8-bb20-1d027559b3fd"
      },
      "source": [
        "countries2 = []\n",
        "for co in countries:\n",
        "    for yr in year:\n",
        "      if co in ['CHN', 'AUS']:\n",
        "        countries2 = countries2 + [co + '_' + str(yr)]\n",
        "      else:\n",
        "          pass;\n",
        "countries2\n"
      ],
      "execution_count": 52,
      "outputs": [
        {
          "output_type": "execute_result",
          "data": {
            "text/plain": [
              "['CHN_17', 'CHN_18', 'CHN_19', 'CHN_20', 'AUS_17', 'AUS_18', 'AUS_19', 'AUS_20']"
            ]
          },
          "metadata": {},
          "execution_count": 52
        }
      ]
    },
    {
      "cell_type": "markdown",
      "metadata": {
        "id": "1LQuMczeNVk2"
      },
      "source": [
        "#### 힌트"
      ]
    },
    {
      "cell_type": "code",
      "metadata": {
        "id": "2JbNCw1ANVk2"
      },
      "source": [
        "# countries2 = []\n",
        "# for co in :\n",
        "#     for yr in :\n",
        "#         countries2 = countries2 + [co + '_' + str(yr)]"
      ],
      "execution_count": null,
      "outputs": []
    },
    {
      "cell_type": "markdown",
      "metadata": {
        "id": "RhPn6RLiNVk3"
      },
      "source": [
        "# 3. 아래 식을 참고하여 $\\hat(\\beta)$를 계산하는 함수를 정의하고, $X, y$를 생성한 다음 선형회귀모형의 계수를 추정하시오"
      ]
    },
    {
      "cell_type": "markdown",
      "metadata": {
        "id": "hxQo1THFNVk3"
      },
      "source": [
        "$y = X \\beta + u$ with $u \\sim norm(0, 1/2)$\n",
        "\n",
        "$y$는 $n \\times 1$ 종속변수 벡터, $X$는 $n \\times p$ 설명변수 매트릭스, $\\beta$는 $p \\times 1$ 계수 벡터, $u$는 $\\times 1$ 비관측 요인 벡터\n",
        "\n",
        "$x_{1,t}=1$,\n",
        "\n",
        "$x_{2,t}=0.5 \\times x_{2,t-1} + \\varepsilon_2$ with $x_{2,0} = 1$ and $\\varepsilon_2 \\sim norm(0,1)$\n",
        "\n",
        "\n",
        "$x_{3,t}=0.2 \\times x_{3,t-1} + 2\\varepsilon_3$ with $x_{3,0} = 2$ and $\\varepsilon_3 \\sim norm(0,1)$\n",
        "\n",
        "$\\beta = [1, 2, 3]$"
      ]
    },
    {
      "cell_type": "markdown",
      "metadata": {
        "id": "pmpn4X4FNVk4"
      },
      "source": [
        "#### 힌트"
      ]
    },
    {
      "cell_type": "markdown",
      "metadata": {
        "id": "mYstQmzNNVk4"
      },
      "source": [
        "$\\hat{\\beta} = (X'X)^{-1}X'y $"
      ]
    },
    {
      "cell_type": "code",
      "metadata": {
        "colab": {
          "base_uri": "https://localhost:8080/",
          "height": 0
        },
        "id": "pg1Kyg74vzk6",
        "outputId": "9d2060f7-0dbc-4383-cc2e-674b0bd4e1cc"
      },
      "source": [
        "import numpy as np\n",
        "from numpy.linalg import inv\n",
        "\n",
        "def beta_hat(y, X):\n",
        "    return inv(X.T.dot(X)).dot(X.T).dot(y)\n",
        "\n",
        "N = 100\n",
        "x1 = np.ones(N) * 1\n",
        "x2 = np.ones(N) * 1\n",
        "x3 = np.ones(N) * 2\n",
        "\n",
        "for t in range(1, N):\n",
        "    x2[t] = 0.5 * x2[t-1] + np.random.randn()\n",
        "    x3[t] = 0.2 * x3[t-1] + np.random.randn()\n",
        "\n",
        "X = np.array([x1, x2, x3]).T\n",
        "beta = np.array([1, 2, 3])\n",
        "\n",
        "y = X.dot(beta) + np.random.randn(N)\n",
        "\n",
        "beta_hat(y, X)"
      ],
      "execution_count": 53,
      "outputs": [
        {
          "output_type": "execute_result",
          "data": {
            "text/plain": [
              "array([0.97202308, 1.94924619, 2.95670777])"
            ]
          },
          "metadata": {},
          "execution_count": 53
        }
      ]
    },
    {
      "cell_type": "code",
      "metadata": {
        "id": "NkBsNxBjNVk5"
      },
      "source": [
        "# import numpy as np\n",
        "# from numpy.linalg import inv\n",
        "\n",
        "# def beta_hat(y, X):\n",
        "#     return inv(X.T.dot(X)).dot(X.T).dot(y)\n",
        "\n",
        "# N = \n",
        "# x1 = np.ones(N) * 1\n",
        "# x2 = np.ones(N) * 1\n",
        "# x3 = np.ones(N) * \n",
        "\n",
        "# for t in range(1, N):\n",
        "#     x2[t] = 0.5 * x2[t-1] + np.random.randn()\n",
        "#     x3[t] = 0.2 * x3[t-1] + np.random.randn()\n",
        "\n",
        "# X = np.array([x1, x2, x3]).T\n",
        "# beta = np.array([1, 2, 3])\n",
        "\n",
        "# y = X.dot(beta) + np.random.randn(N)\n",
        "\n",
        "# beta_hat(y, X)"
      ],
      "execution_count": null,
      "outputs": []
    },
    {
      "cell_type": "markdown",
      "metadata": {
        "id": "9yP9sgPwNVk7"
      },
      "source": [
        "# 4. 연도(2017~2020), 국가별(kr, us, jp) 경제성장률과 물가상승률 데이터프레임을 생성하시오\n",
        "(인덱스 첫번째 레벨은은 연도, 두번째 레벨은은 국가명. 칼럼은  [gdp, inf],\n",
        "경제성장률과 물가상승률은 넘파이 랜덤표본 이용)\n",
        "\n",
        "- 2018년 이후 한국과 미국의 연도별 평균경제성장률을 계산하라\n",
        "- 중국(cn)의 경제성장률과 물가상승률 데이터프레임을 같은 방식으로 생성하여 결합하라"
      ]
    },
    {
      "cell_type": "code",
      "metadata": {
        "colab": {
          "base_uri": "https://localhost:8080/",
          "height": 457
        },
        "id": "xvTHueSe6uAy",
        "outputId": "e7be8d19-4400-42c7-a269-fba21194fca0"
      },
      "source": [
        "# 연도(2017~2020), 국가별(kr, us, jp) 경제성장률과 물가상승률 데이터프레임을 생성\n",
        "import pandas as pd\n",
        "ex1 = pd.DataFrame({'yr':list(range(2017, 2021)) *3\n",
        "                  , 'country':['kr'] * 4 +  ['us'] * 4 + ['jp'] * 4\n",
        "                  , 'gdp':np.random.randn(12) + 1\n",
        "                  , 'inf':np.random.randn(12) + 2 })\n",
        "\n",
        "ex1.set_index(['yr', 'country'], inplace=True)\n",
        "ex1 = ex1.sort_index(axis = 0)\n",
        "ex1"
      ],
      "execution_count": 59,
      "outputs": [
        {
          "output_type": "execute_result",
          "data": {
            "text/html": [
              "<div>\n",
              "<style scoped>\n",
              "    .dataframe tbody tr th:only-of-type {\n",
              "        vertical-align: middle;\n",
              "    }\n",
              "\n",
              "    .dataframe tbody tr th {\n",
              "        vertical-align: top;\n",
              "    }\n",
              "\n",
              "    .dataframe thead th {\n",
              "        text-align: right;\n",
              "    }\n",
              "</style>\n",
              "<table border=\"1\" class=\"dataframe\">\n",
              "  <thead>\n",
              "    <tr style=\"text-align: right;\">\n",
              "      <th></th>\n",
              "      <th></th>\n",
              "      <th>gdp</th>\n",
              "      <th>inf</th>\n",
              "    </tr>\n",
              "    <tr>\n",
              "      <th>yr</th>\n",
              "      <th>country</th>\n",
              "      <th></th>\n",
              "      <th></th>\n",
              "    </tr>\n",
              "  </thead>\n",
              "  <tbody>\n",
              "    <tr>\n",
              "      <th rowspan=\"3\" valign=\"top\">2017</th>\n",
              "      <th>jp</th>\n",
              "      <td>0.213691</td>\n",
              "      <td>0.462080</td>\n",
              "    </tr>\n",
              "    <tr>\n",
              "      <th>kr</th>\n",
              "      <td>0.526158</td>\n",
              "      <td>2.258165</td>\n",
              "    </tr>\n",
              "    <tr>\n",
              "      <th>us</th>\n",
              "      <td>2.536417</td>\n",
              "      <td>1.499969</td>\n",
              "    </tr>\n",
              "    <tr>\n",
              "      <th rowspan=\"3\" valign=\"top\">2018</th>\n",
              "      <th>jp</th>\n",
              "      <td>1.562867</td>\n",
              "      <td>3.043316</td>\n",
              "    </tr>\n",
              "    <tr>\n",
              "      <th>kr</th>\n",
              "      <td>-0.546824</td>\n",
              "      <td>1.381860</td>\n",
              "    </tr>\n",
              "    <tr>\n",
              "      <th>us</th>\n",
              "      <td>0.676945</td>\n",
              "      <td>2.170072</td>\n",
              "    </tr>\n",
              "    <tr>\n",
              "      <th rowspan=\"3\" valign=\"top\">2019</th>\n",
              "      <th>jp</th>\n",
              "      <td>1.047889</td>\n",
              "      <td>0.189574</td>\n",
              "    </tr>\n",
              "    <tr>\n",
              "      <th>kr</th>\n",
              "      <td>0.509726</td>\n",
              "      <td>3.132870</td>\n",
              "    </tr>\n",
              "    <tr>\n",
              "      <th>us</th>\n",
              "      <td>0.540262</td>\n",
              "      <td>2.753484</td>\n",
              "    </tr>\n",
              "    <tr>\n",
              "      <th rowspan=\"3\" valign=\"top\">2020</th>\n",
              "      <th>jp</th>\n",
              "      <td>0.270100</td>\n",
              "      <td>1.717424</td>\n",
              "    </tr>\n",
              "    <tr>\n",
              "      <th>kr</th>\n",
              "      <td>1.485632</td>\n",
              "      <td>2.203267</td>\n",
              "    </tr>\n",
              "    <tr>\n",
              "      <th>us</th>\n",
              "      <td>1.452541</td>\n",
              "      <td>-0.111866</td>\n",
              "    </tr>\n",
              "  </tbody>\n",
              "</table>\n",
              "</div>"
            ],
            "text/plain": [
              "                   gdp       inf\n",
              "yr   country                    \n",
              "2017 jp       0.213691  0.462080\n",
              "     kr       0.526158  2.258165\n",
              "     us       2.536417  1.499969\n",
              "2018 jp       1.562867  3.043316\n",
              "     kr      -0.546824  1.381860\n",
              "     us       0.676945  2.170072\n",
              "2019 jp       1.047889  0.189574\n",
              "     kr       0.509726  3.132870\n",
              "     us       0.540262  2.753484\n",
              "2020 jp       0.270100  1.717424\n",
              "     kr       1.485632  2.203267\n",
              "     us       1.452541 -0.111866"
            ]
          },
          "metadata": {},
          "execution_count": 59
        }
      ]
    },
    {
      "cell_type": "code",
      "metadata": {
        "colab": {
          "base_uri": "https://localhost:8080/",
          "height": 0
        },
        "id": "FVMVdjiS7PC-",
        "outputId": "0b45394e-98ce-44cb-bd01-5939dfed7420"
      },
      "source": [
        "# 2018년 이후 한국과 미국의 연도별 평균경제성장률을 계산\n",
        "ex1 = ex1.unstack()\n",
        "ex1.loc[2018:].mean()\n",
        "ex1['gdp'].loc[2018:, ['kr', 'us']].mean(axis = 1)"
      ],
      "execution_count": 60,
      "outputs": [
        {
          "output_type": "execute_result",
          "data": {
            "text/plain": [
              "yr\n",
              "2018    0.065060\n",
              "2019    0.524994\n",
              "2020    1.469087\n",
              "dtype: float64"
            ]
          },
          "metadata": {},
          "execution_count": 60
        }
      ]
    },
    {
      "cell_type": "code",
      "metadata": {
        "colab": {
          "base_uri": "https://localhost:8080/",
          "height": 238
        },
        "id": "zHgsnM5t84fX",
        "outputId": "01854e8d-8abe-4c70-c100-b60faf0dd3dc"
      },
      "source": [
        "# 중국(cn)의 경제성장률과 물가상승률 데이터프레임을 같은 방식으로 생성하여 결합\n",
        "cn = pd.DataFrame({'yr':list(range(2017, 2021)) * 1, 'country':['cn'] * 4,\n",
        "                    'gdp':np.random.randn(4) + 1, 'inf':np.random.randn(4) + 2})\n",
        "ex1 = ex1.stack()\n",
        "ex1 = ex1.reset_index()\n",
        "ex2 = pd.concat([ex1, cn], axis = 0)\n",
        "ex2 = ex2.set_index(['yr', 'country']).unstack()\n",
        "ex2"
      ],
      "execution_count": 61,
      "outputs": [
        {
          "output_type": "execute_result",
          "data": {
            "text/html": [
              "<div>\n",
              "<style scoped>\n",
              "    .dataframe tbody tr th:only-of-type {\n",
              "        vertical-align: middle;\n",
              "    }\n",
              "\n",
              "    .dataframe tbody tr th {\n",
              "        vertical-align: top;\n",
              "    }\n",
              "\n",
              "    .dataframe thead tr th {\n",
              "        text-align: left;\n",
              "    }\n",
              "\n",
              "    .dataframe thead tr:last-of-type th {\n",
              "        text-align: right;\n",
              "    }\n",
              "</style>\n",
              "<table border=\"1\" class=\"dataframe\">\n",
              "  <thead>\n",
              "    <tr>\n",
              "      <th></th>\n",
              "      <th colspan=\"4\" halign=\"left\">gdp</th>\n",
              "      <th colspan=\"4\" halign=\"left\">inf</th>\n",
              "    </tr>\n",
              "    <tr>\n",
              "      <th>country</th>\n",
              "      <th>cn</th>\n",
              "      <th>jp</th>\n",
              "      <th>kr</th>\n",
              "      <th>us</th>\n",
              "      <th>cn</th>\n",
              "      <th>jp</th>\n",
              "      <th>kr</th>\n",
              "      <th>us</th>\n",
              "    </tr>\n",
              "    <tr>\n",
              "      <th>yr</th>\n",
              "      <th></th>\n",
              "      <th></th>\n",
              "      <th></th>\n",
              "      <th></th>\n",
              "      <th></th>\n",
              "      <th></th>\n",
              "      <th></th>\n",
              "      <th></th>\n",
              "    </tr>\n",
              "  </thead>\n",
              "  <tbody>\n",
              "    <tr>\n",
              "      <th>2017</th>\n",
              "      <td>1.172623</td>\n",
              "      <td>0.213691</td>\n",
              "      <td>0.526158</td>\n",
              "      <td>2.536417</td>\n",
              "      <td>0.987047</td>\n",
              "      <td>0.462080</td>\n",
              "      <td>2.258165</td>\n",
              "      <td>1.499969</td>\n",
              "    </tr>\n",
              "    <tr>\n",
              "      <th>2018</th>\n",
              "      <td>0.415566</td>\n",
              "      <td>1.562867</td>\n",
              "      <td>-0.546824</td>\n",
              "      <td>0.676945</td>\n",
              "      <td>3.820969</td>\n",
              "      <td>3.043316</td>\n",
              "      <td>1.381860</td>\n",
              "      <td>2.170072</td>\n",
              "    </tr>\n",
              "    <tr>\n",
              "      <th>2019</th>\n",
              "      <td>1.430391</td>\n",
              "      <td>1.047889</td>\n",
              "      <td>0.509726</td>\n",
              "      <td>0.540262</td>\n",
              "      <td>1.910150</td>\n",
              "      <td>0.189574</td>\n",
              "      <td>3.132870</td>\n",
              "      <td>2.753484</td>\n",
              "    </tr>\n",
              "    <tr>\n",
              "      <th>2020</th>\n",
              "      <td>1.723430</td>\n",
              "      <td>0.270100</td>\n",
              "      <td>1.485632</td>\n",
              "      <td>1.452541</td>\n",
              "      <td>1.898353</td>\n",
              "      <td>1.717424</td>\n",
              "      <td>2.203267</td>\n",
              "      <td>-0.111866</td>\n",
              "    </tr>\n",
              "  </tbody>\n",
              "</table>\n",
              "</div>"
            ],
            "text/plain": [
              "              gdp                      ...       inf                    \n",
              "country        cn        jp        kr  ...        jp        kr        us\n",
              "yr                                     ...                              \n",
              "2017     1.172623  0.213691  0.526158  ...  0.462080  2.258165  1.499969\n",
              "2018     0.415566  1.562867 -0.546824  ...  3.043316  1.381860  2.170072\n",
              "2019     1.430391  1.047889  0.509726  ...  0.189574  3.132870  2.753484\n",
              "2020     1.723430  0.270100  1.485632  ...  1.717424  2.203267 -0.111866\n",
              "\n",
              "[4 rows x 8 columns]"
            ]
          },
          "metadata": {},
          "execution_count": 61
        }
      ]
    },
    {
      "cell_type": "code",
      "metadata": {
        "id": "rHiEPfY4NVk8"
      },
      "source": [
        "# import numpy as np\n",
        "\n",
        "# ex1 = pd.DataFrame({'yr':list(range(2017, 2021)) * , 'country':['kr'] * 4 + \n",
        "#                     ['us'] * 4 + ['jp'] * 4, 'gdp':np.random.randn(12) + 1, \n",
        "#                     'inf':np.random.randn(12) + 2})\n",
        "# ex1 = ex1.set_index( )\n",
        "# ex1 = ex1.sort_index(axis = )\n",
        "# ex1.loc[2018:]"
      ],
      "execution_count": null,
      "outputs": []
    },
    {
      "cell_type": "code",
      "metadata": {
        "id": "ejeUWcUENVk9"
      },
      "source": [
        "# ex1 = ex1.unstack()\n",
        "# ex1.loc[2018:].mean()\n",
        "# ex1['gdp'].loc[2018:, ['kr', 'us']].mean(axis = 1)\n",
        "# cn = pd.DataFrame({'yr':list(range(2017, 2021)) * 1, 'country':['cn'] * 4,\n",
        "#                    'gdp':np.random.randn(4) + 1, 'inf':np.random.randn(4) + 2})\n",
        "# ex1 = ex1.stack()\n",
        "# ex1 = ex1.reset_index()\n",
        "# ex2 = pd.concat([ex1, cn], axis = 0)\n",
        "# ex2 = ex2.set_index(['yr', 'country']).unstack()\n",
        "# ex2m = ex2.groupby(level = 0, axis = 1).mean()\n",
        "# ex2m['country'] = 'mean'\n",
        "# ex2m = ex2m.set_index('country', append=True)\n",
        "# ex2m = ex2m.unstack()\n",
        "# ex3 = pd.concat([ex2, ex2m], axis = 1)\n",
        "# ex3.loc[ex3.loc[:, idx['gdp', 'mean']].ge(0.8)]"
      ],
      "execution_count": null,
      "outputs": []
    },
    {
      "cell_type": "markdown",
      "metadata": {
        "id": "MGpRG_1gNVk-"
      },
      "source": [
        "# 5. 성인 500명에 대한 키(cm)와 몸무게(kg) 데이터를 아래 관계에 따라 생성하시오\n",
        "\n",
        "$height \\sim norm(170, 15)$\n",
        "\n",
        "$weight = (height - 100)^{1.2} + u$, $u \\sim norm(0, 5)$\n",
        "\n",
        "- 키와 몸무게 각각에 대한 히스토그램(5 kg/cm 구간)을 subplots을 이용하여 그리시오\n",
        "\n",
        "- 키 180cm 이상 및 이하로 그룹을 나누어 키와 몸무게의 산포도를 그리시오"
      ]
    },
    {
      "cell_type": "code",
      "metadata": {
        "colab": {
          "base_uri": "https://localhost:8080/",
          "height": 0
        },
        "id": "YdY7HXt_Eclc",
        "outputId": "559aa0eb-ce11-47e9-b93d-675a714721c2"
      },
      "source": [
        "import numpy as np\n",
        "import pandas as pd\n",
        "import matplotlib.pyplot as plt\n",
        "\n",
        "N = 500\n",
        "h = np.random.randn(N) * 15 + 170\n",
        "w = (h - 100)**1.1+ np.random.randn(N)\n",
        "hw = pd.DataFrame({'h':h, 'w':w})\n",
        "\n",
        "print(hw.min())\n",
        "print(hw.max())"
      ],
      "execution_count": 66,
      "outputs": [
        {
          "output_type": "stream",
          "name": "stdout",
          "text": [
            "h    129.261135\n",
            "w     40.013583\n",
            "dtype: float64\n",
            "h    211.226669\n",
            "w    177.720518\n",
            "dtype: float64\n"
          ]
        }
      ]
    },
    {
      "cell_type": "code",
      "metadata": {
        "colab": {
          "base_uri": "https://localhost:8080/",
          "height": 339
        },
        "id": "o0kUqGGwEiS4",
        "outputId": "5329f977-9804-4d5a-b9ee-269ea1c5e0d6"
      },
      "source": [
        "# 키와 몸무게 각각에 대한 히스토그램(5 kg/cm 구간)을 subplots을 이용하여 그리시오\n",
        "fig, ax = plt.subplots(1, 2, figsize=(16, 4))\n",
        "hw.groupby(pd.cut(hw.h, list(range(130, 205, 5))))['h'].count().plot.bar(ax=ax[0])\n",
        "hw.groupby(pd.cut(hw.w, list(range(50,  175, 5))))['w'].count().plot.bar(ax=ax[1])\n"
      ],
      "execution_count": 69,
      "outputs": [
        {
          "output_type": "execute_result",
          "data": {
            "text/plain": [
              "<matplotlib.axes._subplots.AxesSubplot object at 0x7fe21a2a7cd0>"
            ]
          },
          "metadata": {},
          "execution_count": 69
        },
        {
          "output_type": "display_data",
          "data": {
            "image/png": "[encoded data removed]",
            "text/plain": [
              "<Figure size 1152x288 with 2 Axes>"
            ]
          },
          "metadata": {
            "needs_background": "light"
          }
        }
      ]
    },
    {
      "cell_type": "code",
      "metadata": {
        "colab": {
          "base_uri": "https://localhost:8080/",
          "height": 300
        },
        "id": "TrKpdSBaEk-r",
        "outputId": "a547a189-6430-446a-9af4-865170db55fa"
      },
      "source": [
        "# 키 180cm 이상 및 이하로 그룹을 나누어 키와 몸무게의 산포도를 그리시오\n",
        "fig, ax = plt.subplots(1, 2, figsize=(16, 4))\n",
        "hw.loc[hw.h.ge(180)].plot.scatter(x='h', y='w', ax=ax[0])\n",
        "hw.loc[hw.h.lt(180)].plot.scatter(x='h', y='w', ax=ax[1])"
      ],
      "execution_count": 68,
      "outputs": [
        {
          "output_type": "execute_result",
          "data": {
            "text/plain": [
              "<matplotlib.axes._subplots.AxesSubplot object at 0x7fe21a3caed0>"
            ]
          },
          "metadata": {},
          "execution_count": 68
        },
        {
          "output_type": "display_data",
          "data": {
            "image/png": "[encoded data removed]",
            "text/plain": [
              "<Figure size 1152x288 with 2 Axes>"
            ]
          },
          "metadata": {
            "needs_background": "light"
          }
        }
      ]
    },
    {
      "cell_type": "markdown",
      "metadata": {
        "id": "xRe4mhDuNVk-"
      },
      "source": [
        "#### 힌트"
      ]
    },
    {
      "cell_type": "code",
      "metadata": {
        "id": "Rz8DLcsBNVk-"
      },
      "source": [
        "# import numpy as np\n",
        "# import pandas as pd\n",
        "# import matplotlib.pyplot as plt\n",
        "\n",
        "# N = 100\n",
        "# h = np.random.randn(N) * 15 + 170\n",
        "# w = (h - 100)**1.1 + np.random.randn(N)\n",
        "\n",
        "# hw = pd.DataFrame({'h':h, 'w':w})\n",
        "# hw.max()\n",
        "# hw.min()\n",
        "\n",
        "# fig, ax = plt.subplots(1, 2, figsize=(16, 4))\n",
        "# hw.groupby(pd.cut(hw.h, list(range(130, 205, 5))))['h'].count().plot.bar(ax=ax[0])\n",
        "# hw.groupby(pd.cut(hw.w, list(range(50, ))))['w'].count().plot.bar(ax=ax[1])\n",
        "\n",
        "# fig, ax = plt.subplots(1, 2, figsize=(16, 4))\n",
        "# hw.loc[hw.h.ge(180)].plot.scatter(x='h', y='w', ax=ax[0])\n",
        "# hw.loc[hw.h.lt(180)].plot.scatter(x='h', y='w', ax=ax[1])"
      ],
      "execution_count": null,
      "outputs": []
    },
    {
      "cell_type": "markdown",
      "metadata": {
        "id": "didNB4ZDNVk_"
      },
      "source": [
        "# (optional) 2000~2020년중 국가별 주택가격 변화를 분석하고자 한다.(20개 이상 국가 포함)\n",
        "\n",
        "- BIS statistics의 주택가격 데이터를 이용하여여 2014년 이후 주택가격 상승률이 가장 높은 3개, 가장 낮은 3개 국가의 주택가격 추이를 그래프로 그리시오.\n",
        "\n",
        "- BIS statistics의 주택가격 데이터를 포함하여, 국가별 주택가격에 영향을 미치는 3개 이상 설명변수를 2개 이상 데이터 출처에서 입수하여 하나의 데이터프레임으로 정리하고, 스타타 파일 포맷으로 export하시오. \n"
      ]
    },
    {
      "cell_type": "code",
      "metadata": {
        "colab": {
          "base_uri": "https://localhost:8080/",
          "height": 0
        },
        "id": "zFdSvfVMll7P",
        "outputId": "d38e1548-8ce1-4f8a-875d-171cf79b2634"
      },
      "source": [
        "pip install country_converter"
      ],
      "execution_count": 2,
      "outputs": [
        {
          "output_type": "stream",
          "name": "stdout",
          "text": [
            "Collecting country_converter\n",
            "  Downloading country_converter-0.7.4.tar.gz (50 kB)\n",
            "\u001b[K     |████████████████████████████████| 50 kB 3.0 MB/s \n",
            "\u001b[?25hRequirement already satisfied: pandas>=1.0 in /usr/local/lib/python3.7/dist-packages (from country_converter) (1.1.5)\n",
            "Requirement already satisfied: numpy>=1.15.4 in /usr/local/lib/python3.7/dist-packages (from pandas>=1.0->country_converter) (1.19.5)\n",
            "Requirement already satisfied: pytz>=2017.2 in /usr/local/lib/python3.7/dist-packages (from pandas>=1.0->country_converter) (2018.9)\n",
            "Requirement already satisfied: python-dateutil>=2.7.3 in /usr/local/lib/python3.7/dist-packages (from pandas>=1.0->country_converter) (2.8.2)\n",
            "Requirement already satisfied: six>=1.5 in /usr/local/lib/python3.7/dist-packages (from python-dateutil>=2.7.3->pandas>=1.0->country_converter) (1.15.0)\n",
            "Building wheels for collected packages: country-converter\n",
            "  Building wheel for country-converter (setup.py) ... \u001b[?25l\u001b[?25hdone\n",
            "  Created wheel for country-converter: filename=country_converter-0.7.4-py3-none-any.whl size=53543 sha256=6391c46199167f8e63c7c4180fcc09956914531085a1ab0c0a6b5f824f6fe468\n",
            "  Stored in directory: /root/.cache/pip/wheels/69/cf/84/9ebca78737327440a0bb5faa6d0380e9017730534cf0dbcb8c\n",
            "Successfully built country-converter\n",
            "Installing collected packages: country-converter\n",
            "Successfully installed country-converter-0.7.4\n"
          ]
        }
      ]
    },
    {
      "cell_type": "code",
      "metadata": {
        "id": "K69q-NbLNVk_",
        "colab": {
          "base_uri": "https://localhost:8080/",
          "height": 297
        },
        "outputId": "96d4ead3-3357-4dd8-eb4e-f43742902d89"
      },
      "source": [
        "import pandas as pd\n",
        "import matplotlib.pyplot as plt\n",
        "import country_converter as coco\n",
        "df = pd.read_excel('https://www.bis.org/statistics/pp/pp_selected.xlsx', sheet_name='Quarterly Series', skiprows=3, index_col=0)\n",
        "df.columns = pd.MultiIndex.from_tuples(df.columns.str.split(':').tolist())\n",
        "# R:Real, 628:Index, 2010 = 100\n",
        "df = df.loc[:, (df.columns.get_level_values(2)=='R' )& (df.columns.get_level_values(3)=='628' )]\n",
        "df.columns = df.columns.droplevel([0,2,3])\n",
        "\n",
        "top3 = df.pct_change(30).iloc[-1, :].nlargest(3).index\n",
        "bottom3 = df.pct_change(30).iloc[-1, :].nsmallest(3).index\n",
        "\n",
        "fig, ax = plt.subplots(1, 2, figsize = (16, 4))\n",
        "df.loc['2014':, top3].plot(ax=ax[0]).legend(coco.convert(names=top3, to='name_short'))\n",
        "df.loc['2014':, bottom3].plot(ax=ax[1]).legend(coco.convert(names=bottom3, to='name_short'))"
      ],
      "execution_count": 3,
      "outputs": [
        {
          "output_type": "execute_result",
          "data": {
            "text/plain": [
              "<matplotlib.legend.Legend at 0x7f82207bfd10>"
            ]
          },
          "metadata": {},
          "execution_count": 3
        },
        {
          "output_type": "display_data",
          "data": {
            "image/png": "[encoded data removed]",
            "text/plain": [
              "<Figure size 1152x288 with 2 Axes>"
            ]
          },
          "metadata": {
            "needs_background": "light"
          }
        }
      ]
    },
    {
      "cell_type": "code",
      "metadata": {
        "colab": {
          "base_uri": "https://localhost:8080/",
          "height": 0
        },
        "id": "1x-O-eV3kAO9",
        "outputId": "ae2590c6-3d0b-43fc-87a3-08172d7d3470"
      },
      "source": [
        "pip install pandaSDMX"
      ],
      "execution_count": 5,
      "outputs": [
        {
          "output_type": "stream",
          "name": "stdout",
          "text": [
            "Collecting pandaSDMX\n",
            "  Downloading pandaSDMX-1.6.0-py3-none-any.whl (78 kB)\n",
            "\u001b[K     |████████████████████████████████| 78 kB 3.2 MB/s \n",
            "\u001b[?25hCollecting pydantic<1.8,>=1.7.1\n",
            "  Downloading pydantic-1.7.4-cp37-cp37m-manylinux2014_x86_64.whl (9.1 MB)\n",
            "\u001b[K     |████████████████████████████████| 9.1 MB 8.5 MB/s \n",
            "\u001b[?25hRequirement already satisfied: pandas>=1.0 in /usr/local/lib/python3.7/dist-packages (from pandaSDMX) (1.1.5)\n",
            "Requirement already satisfied: requests>=2.7 in /usr/local/lib/python3.7/dist-packages (from pandaSDMX) (2.23.0)\n",
            "Requirement already satisfied: lxml>=3.6 in /usr/local/lib/python3.7/dist-packages (from pandaSDMX) (4.2.6)\n",
            "Requirement already satisfied: python-dateutil>=2.7.3 in /usr/local/lib/python3.7/dist-packages (from pandas>=1.0->pandaSDMX) (2.8.2)\n",
            "Requirement already satisfied: pytz>=2017.2 in /usr/local/lib/python3.7/dist-packages (from pandas>=1.0->pandaSDMX) (2018.9)\n",
            "Requirement already satisfied: numpy>=1.15.4 in /usr/local/lib/python3.7/dist-packages (from pandas>=1.0->pandaSDMX) (1.19.5)\n",
            "Requirement already satisfied: six>=1.5 in /usr/local/lib/python3.7/dist-packages (from python-dateutil>=2.7.3->pandas>=1.0->pandaSDMX) (1.15.0)\n",
            "Requirement already satisfied: certifi>=2017.4.17 in /usr/local/lib/python3.7/dist-packages (from requests>=2.7->pandaSDMX) (2021.10.8)\n",
            "Requirement already satisfied: urllib3!=1.25.0,!=1.25.1,<1.26,>=1.21.1 in /usr/local/lib/python3.7/dist-packages (from requests>=2.7->pandaSDMX) (1.24.3)\n",
            "Requirement already satisfied: chardet<4,>=3.0.2 in /usr/local/lib/python3.7/dist-packages (from requests>=2.7->pandaSDMX) (3.0.4)\n",
            "Requirement already satisfied: idna<3,>=2.5 in /usr/local/lib/python3.7/dist-packages (from requests>=2.7->pandaSDMX) (2.10)\n",
            "Installing collected packages: pydantic, pandaSDMX\n",
            "Successfully installed pandaSDMX-1.6.0 pydantic-1.7.4\n"
          ]
        }
      ]
    },
    {
      "cell_type": "code",
      "metadata": {
        "colab": {
          "base_uri": "https://localhost:8080/",
          "height": 0
        },
        "id": "NqFrXMegkat7",
        "outputId": "1945efee-a698-4f8b-cbcd-e6a6c348b5c2"
      },
      "source": [
        "pip install requests-cache"
      ],
      "execution_count": 6,
      "outputs": [
        {
          "output_type": "stream",
          "name": "stdout",
          "text": [
            "Collecting requests-cache\n",
            "  Downloading requests_cache-0.8.1-py3-none-any.whl (44 kB)\n",
            "\u001b[K     |████████████████████████████████| 44 kB 1.3 MB/s \n",
            "\u001b[?25hCollecting url-normalize<2.0,>=1.4\n",
            "  Downloading url_normalize-1.4.3-py2.py3-none-any.whl (6.8 kB)\n",
            "Requirement already satisfied: appdirs<2.0.0,>=1.4.4 in /usr/local/lib/python3.7/dist-packages (from requests-cache) (1.4.4)\n",
            "Collecting urllib3<2.0.0,>=1.25.5\n",
            "  Downloading urllib3-1.26.7-py2.py3-none-any.whl (138 kB)\n",
            "\u001b[K     |████████████████████████████████| 138 kB 9.6 MB/s \n",
            "\u001b[?25hRequirement already satisfied: requests<3.0,>=2.22 in /usr/local/lib/python3.7/dist-packages (from requests-cache) (2.23.0)\n",
            "Requirement already satisfied: attrs<22.0,>=21.2 in /usr/local/lib/python3.7/dist-packages (from requests-cache) (21.2.0)\n",
            "Collecting cattrs<2.0,>=1.8\n",
            "  Downloading cattrs-1.8.0-py3-none-any.whl (24 kB)\n",
            "Collecting urllib3<2.0.0,>=1.25.5\n",
            "  Downloading urllib3-1.25.11-py2.py3-none-any.whl (127 kB)\n",
            "\u001b[K     |████████████████████████████████| 127 kB 53.7 MB/s \n",
            "\u001b[?25hRequirement already satisfied: chardet<4,>=3.0.2 in /usr/local/lib/python3.7/dist-packages (from requests<3.0,>=2.22->requests-cache) (3.0.4)\n",
            "Requirement already satisfied: idna<3,>=2.5 in /usr/local/lib/python3.7/dist-packages (from requests<3.0,>=2.22->requests-cache) (2.10)\n",
            "Requirement already satisfied: certifi>=2017.4.17 in /usr/local/lib/python3.7/dist-packages (from requests<3.0,>=2.22->requests-cache) (2021.10.8)\n",
            "Requirement already satisfied: six in /usr/local/lib/python3.7/dist-packages (from url-normalize<2.0,>=1.4->requests-cache) (1.15.0)\n",
            "Installing collected packages: urllib3, url-normalize, cattrs, requests-cache\n",
            "  Attempting uninstall: urllib3\n",
            "    Found existing installation: urllib3 1.24.3\n",
            "    Uninstalling urllib3-1.24.3:\n",
            "      Successfully uninstalled urllib3-1.24.3\n",
            "\u001b[31mERROR: pip's dependency resolver does not currently take into account all the packages that are installed. This behaviour is the source of the following dependency conflicts.\n",
            "datascience 0.10.6 requires folium==0.2.1, but you have folium 0.8.3 which is incompatible.\u001b[0m\n",
            "Successfully installed cattrs-1.8.0 requests-cache-0.8.1 url-normalize-1.4.3 urllib3-1.25.11\n"
          ]
        }
      ]
    },
    {
      "cell_type": "code",
      "metadata": {
        "colab": {
          "base_uri": "https://localhost:8080/",
          "height": 0
        },
        "id": "ZByQasdSkeg8",
        "outputId": "5dd2a8b3-db81-4a6c-e935-324d26df3cda"
      },
      "source": [
        "pip install country_converter"
      ],
      "execution_count": 7,
      "outputs": [
        {
          "output_type": "stream",
          "name": "stdout",
          "text": [
            "Requirement already satisfied: country_converter in /usr/local/lib/python3.7/dist-packages (0.7.4)\n",
            "Requirement already satisfied: pandas>=1.0 in /usr/local/lib/python3.7/dist-packages (from country_converter) (1.1.5)\n",
            "Requirement already satisfied: pytz>=2017.2 in /usr/local/lib/python3.7/dist-packages (from pandas>=1.0->country_converter) (2018.9)\n",
            "Requirement already satisfied: python-dateutil>=2.7.3 in /usr/local/lib/python3.7/dist-packages (from pandas>=1.0->country_converter) (2.8.2)\n",
            "Requirement already satisfied: numpy>=1.15.4 in /usr/local/lib/python3.7/dist-packages (from pandas>=1.0->country_converter) (1.19.5)\n",
            "Requirement already satisfied: six>=1.5 in /usr/local/lib/python3.7/dist-packages (from python-dateutil>=2.7.3->pandas>=1.0->country_converter) (1.15.0)\n"
          ]
        }
      ]
    },
    {
      "cell_type": "code",
      "metadata": {
        "id": "ZG6YfxsSkh2I"
      },
      "source": [
        "import pandas as pd\n",
        "import pandasdmx as sdmx\n",
        "\n",
        "# BIS : Central bank Policy Rate #########################\n",
        "# 1. Set Agency\n",
        "bis = sdmx.Request('BIS')\n",
        "\n",
        "# 2. find dataflow : Central bank policy rate\n",
        "flow_msg = bis.dataflow()\n",
        "dataflows = sdmx.to_pandas(flow_msg.dataflow)\n",
        "dataflows[dataflows.str.contains('policy', case=False)]\n",
        "\n",
        "# 3. set dataflow\n",
        "cbpr_msg = bis.dataflow('WEBSTATS_CBPOL_M_DATAFLOW')\n",
        "cbpr_flow = cbpr_msg.dataflow.WEBSTATS_CBPOL_M_DATAFLOW\n",
        "\n",
        "# 4. Check : DSD\n",
        "dsd = cbpr_flow.structure\n",
        "# dsd is cbpr_msg.structure.BIS_CBPOL\n",
        "# dsd.dimensions.components\n",
        "# dsd.attributes.components\n",
        "\n",
        "# 5. Check : Code list\n",
        "cl = dsd.dimensions.get('FREQ').local_representation.enumerated\n",
        "# cl is cbpr_msg.codelist.CL_FREQ\n",
        "# sdmx.to_pandas(cl)\n",
        "\n",
        "# 6. Check : constraints\n",
        "# cr = cbpr_msg.constraint.CBP_M_24M.data_content_region[0]\n",
        "# c1 = sdmx.to_pandas(cr.member['FREQ'].values)\n",
        "\n",
        "# 7. get data\n",
        "key = dict(FREQ=['M'])\n",
        "params = dict(startPeriod='2014-01-01')\n",
        "data_msg = bis.data('WEBSTATS_CBPOL_M_DATAFLOW', key=key,params=params)\n",
        "data = data_msg.data[0]\n",
        "monthly = [s for sk, s in data.series.items() if sk.FREQ == 'M']\n",
        "df_cbpr = pd.concat(sdmx.to_pandas(monthly)).unstack()\n",
        "df_cbpr.index = df_cbpr.index.droplevel([0])\n",
        "\n",
        "\n",
        "# BIS : Consumer price #########################\n",
        "bis = sdmx.Request('BIS')\n",
        "dataflows = sdmx.to_pandas(bis.dataflow().dataflow)\n",
        "dataflows[dataflows.str.contains('Consumer', case=False)]\n",
        "cpi_msg = bis.dataflow('WEBSTATS_LONG_CPI_DATAFLOW')\n",
        "cpi_flow = cpi_msg.dataflow.WEBSTATS_LONG_CPI_DATAFLOW\n",
        "dsd = cpi_flow.structure\n",
        "dsd.dimensions.components\n",
        "# cr = cpi_msg.constraint.CPI_IDX.data_content_region[0]\n",
        "# c1 = sdmx.to_pandas(cr.member['FREQ'].values)\n",
        "# c2 = sdmx.to_pandas(cr.member['UNIT_MEASURE'].values)\n",
        "key = dict(FREQ=['M'],UNIT_MEASURE=['628'])\n",
        "params = dict(startPeriod='2014-01-01')\n",
        "data_msg = bis.data('WEBSTATS_LONG_CPI_DATAFLOW', key=key,params=params)\n",
        "data = data_msg.data[0]\n",
        "monthly = [s for sk, s in data.series.items() ]\n",
        "df_cpi = pd.concat(sdmx.to_pandas(monthly)).unstack()\n",
        "df_cpi.index = df_cpi.index.droplevel([0,2])\n"
      ],
      "execution_count": 9,
      "outputs": []
    },
    {
      "cell_type": "code",
      "metadata": {
        "colab": {
          "base_uri": "https://localhost:8080/",
          "height": 0
        },
        "id": "k_9cTHBClJjg",
        "outputId": "205c3afd-7a6e-44f3-f6a2-f730a004c3d8"
      },
      "source": [
        "pip install --upgrade certifi"
      ],
      "execution_count": 11,
      "outputs": [
        {
          "output_type": "stream",
          "name": "stdout",
          "text": [
            "Requirement already satisfied: certifi in /usr/local/lib/python3.7/dist-packages (2021.10.8)\n"
          ]
        }
      ]
    },
    {
      "cell_type": "code",
      "metadata": {
        "colab": {
          "base_uri": "https://localhost:8080/",
          "height": 0
        },
        "id": "Rb5DgIAek0UZ",
        "outputId": "18f896ba-bec7-4d17-e78c-0b74dffb234f"
      },
      "source": [
        "# # ILO : Unemployment rate #########################\n",
        "# ilo = sdmx.Request('ILO')\n",
        "# flow_msg = ilo.dataflow()\n",
        "# dataflows = sdmx.to_pandas(flow_msg.dataflow)\n",
        "# dataflows[dataflows.str.contains('unemployment rate', case=False)]\n",
        "# ilo_msg = ilo.dataflow('DF_UNE_DEA1_SEX_AGE_RT')\n",
        "# unrt_flow = ilo_msg.dataflow.DF_UNE_DEA1_SEX_AGE_RT\n",
        "# unrt_flow.structure.dimensions.components\n",
        "# ilo_msg.constraint\n",
        "# cr = ilo_msg.constraint.CCA_DF_UNE_DEA1_SEX_AGE_RT.data_content_region[0]\n",
        "# c1 = sdmx.to_pandas(cr.member['REF_AREA'].values)\n",
        "# c2 = sdmx.to_pandas(cr.member['FREQ'].values)\n",
        "# c3 = sdmx.to_pandas(cr.member['MEASURE'].values)\n",
        "# c4 = sdmx.to_pandas(cr.member['SEX'].values)\n",
        "# c5 = sdmx.to_pandas(cr.member['AGE'].values)\n",
        "\n",
        "# key = dict(REF_AREA=c1,FREQ=['M'],SEX=['SEX_T'],AGE=['AGE_AGGREGATE_TOTAL'])\n",
        "# params = dict(startPeriod='2014-01-01',endPeriod='2020-12-31')\n",
        "# data_msg = ilo.data('DF_UNE_DEA1_SEX_AGE_RT', key=key,params=params)\n",
        "# data = data_msg.data[0]\n",
        "# monthly = [s for sk, s in data.series.items() ]\n",
        "# df_unrt = pd.concat(sdmx.to_pandas(monthly)).unstack()\n",
        "# df_unrt.index = df_unrt.index.droplevel([1,2,3,4])\n",
        "\n",
        "import ssl\n",
        "\n",
        "ssl._create_default_https_context = ssl._create_unverified_context\n",
        "# OECD : Unemployment rate #########################\n",
        "urloecd = 'https://stats.oecd.org/sdmx-json/data/DP_LIVE/.HUR.TOT.PC_LF.M/OECD?contentType=csv&detail=code&separator=comma&csv-lang=en'\n",
        "df_unrt = pd.read_csv(urloecd)\n",
        "idx= df_unrt[df_unrt.TIME.lt('2014-01')].index\n",
        "df_unrt.drop(idx, inplace=True)\n",
        "df_unrt = df_unrt.pivot(index='LOCATION', columns='TIME', values='Value')\n",
        "df_unrt.index = coco.convert(names=df_unrt.index, to='ISO2')\n",
        "df_unrt.drop(index='not found', inplace=True)\n",
        "df_unrt.index.names = ['REF_AREA']\n"
      ],
      "execution_count": 13,
      "outputs": [
        {
          "output_type": "stream",
          "name": "stderr",
          "text": [
            "EA19 not found in regex\n",
            "EU27_2020 not found in regex\n",
            "G-7 not found in ISO3\n",
            "OECD not found in regex\n"
          ]
        }
      ]
    },
    {
      "cell_type": "code",
      "metadata": {
        "colab": {
          "base_uri": "https://localhost:8080/",
          "height": 0
        },
        "id": "W79-H-IClhmE",
        "outputId": "42b93352-e508-44ce-8a52-e7821ac71a3e"
      },
      "source": [
        "dfs = [df_cbpr, df_cpi, df_unrt]\n",
        "from functools import reduce\n",
        "df_final = reduce(lambda left,right: pd.merge(left,right,on='REF_AREA',how='outer',suffixes=('_cbpr','_cpi')), dfs)\n",
        "\n",
        "df_final.to_stata('final.dta')"
      ],
      "execution_count": 14,
      "outputs": [
        {
          "output_type": "stream",
          "name": "stderr",
          "text": [
            "/usr/local/lib/python3.7/dist-packages/pandas/io/stata.py:2400: InvalidColumnName: \n",
            "Not all pandas column names were valid Stata variable names.\n",
            "The following replacements have been made:\n",
            "\n",
            "    2014-01_cbpr   ->   _2014_01_cbpr\n",
            "    2014-02_cbpr   ->   _2014_02_cbpr\n",
            "    2014-03_cbpr   ->   _2014_03_cbpr\n",
            "    2014-04_cbpr   ->   _2014_04_cbpr\n",
            "    2014-05_cbpr   ->   _2014_05_cbpr\n",
            "    2014-06_cbpr   ->   _2014_06_cbpr\n",
            "    2014-07_cbpr   ->   _2014_07_cbpr\n",
            "    2014-08_cbpr   ->   _2014_08_cbpr\n",
            "    2014-09_cbpr   ->   _2014_09_cbpr\n",
            "    2014-10_cbpr   ->   _2014_10_cbpr\n",
            "    2014-11_cbpr   ->   _2014_11_cbpr\n",
            "    2014-12_cbpr   ->   _2014_12_cbpr\n",
            "    2015-01_cbpr   ->   _2015_01_cbpr\n",
            "    2015-02_cbpr   ->   _2015_02_cbpr\n",
            "    2015-03_cbpr   ->   _2015_03_cbpr\n",
            "    2015-04_cbpr   ->   _2015_04_cbpr\n",
            "    2015-05_cbpr   ->   _2015_05_cbpr\n",
            "    2015-06_cbpr   ->   _2015_06_cbpr\n",
            "    2015-07_cbpr   ->   _2015_07_cbpr\n",
            "    2015-08_cbpr   ->   _2015_08_cbpr\n",
            "    2015-09_cbpr   ->   _2015_09_cbpr\n",
            "    2015-10_cbpr   ->   _2015_10_cbpr\n",
            "    2015-11_cbpr   ->   _2015_11_cbpr\n",
            "    2015-12_cbpr   ->   _2015_12_cbpr\n",
            "    2016-01_cbpr   ->   _2016_01_cbpr\n",
            "    2016-02_cbpr   ->   _2016_02_cbpr\n",
            "    2016-03_cbpr   ->   _2016_03_cbpr\n",
            "    2016-04_cbpr   ->   _2016_04_cbpr\n",
            "    2016-05_cbpr   ->   _2016_05_cbpr\n",
            "    2016-06_cbpr   ->   _2016_06_cbpr\n",
            "    2016-07_cbpr   ->   _2016_07_cbpr\n",
            "    2016-08_cbpr   ->   _2016_08_cbpr\n",
            "    2016-09_cbpr   ->   _2016_09_cbpr\n",
            "    2016-10_cbpr   ->   _2016_10_cbpr\n",
            "    2016-11_cbpr   ->   _2016_11_cbpr\n",
            "    2016-12_cbpr   ->   _2016_12_cbpr\n",
            "    2017-01_cbpr   ->   _2017_01_cbpr\n",
            "    2017-02_cbpr   ->   _2017_02_cbpr\n",
            "    2017-03_cbpr   ->   _2017_03_cbpr\n",
            "    2017-04_cbpr   ->   _2017_04_cbpr\n",
            "    2017-05_cbpr   ->   _2017_05_cbpr\n",
            "    2017-06_cbpr   ->   _2017_06_cbpr\n",
            "    2017-07_cbpr   ->   _2017_07_cbpr\n",
            "    2017-08_cbpr   ->   _2017_08_cbpr\n",
            "    2017-09_cbpr   ->   _2017_09_cbpr\n",
            "    2017-10_cbpr   ->   _2017_10_cbpr\n",
            "    2017-11_cbpr   ->   _2017_11_cbpr\n",
            "    2017-12_cbpr   ->   _2017_12_cbpr\n",
            "    2018-01_cbpr   ->   _2018_01_cbpr\n",
            "    2018-02_cbpr   ->   _2018_02_cbpr\n",
            "    2018-03_cbpr   ->   _2018_03_cbpr\n",
            "    2018-04_cbpr   ->   _2018_04_cbpr\n",
            "    2018-05_cbpr   ->   _2018_05_cbpr\n",
            "    2018-06_cbpr   ->   _2018_06_cbpr\n",
            "    2018-07_cbpr   ->   _2018_07_cbpr\n",
            "    2018-08_cbpr   ->   _2018_08_cbpr\n",
            "    2018-09_cbpr   ->   _2018_09_cbpr\n",
            "    2018-10_cbpr   ->   _2018_10_cbpr\n",
            "    2018-11_cbpr   ->   _2018_11_cbpr\n",
            "    2018-12_cbpr   ->   _2018_12_cbpr\n",
            "    2019-01_cbpr   ->   _2019_01_cbpr\n",
            "    2019-02_cbpr   ->   _2019_02_cbpr\n",
            "    2019-03_cbpr   ->   _2019_03_cbpr\n",
            "    2019-04_cbpr   ->   _2019_04_cbpr\n",
            "    2019-05_cbpr   ->   _2019_05_cbpr\n",
            "    2019-06_cbpr   ->   _2019_06_cbpr\n",
            "    2019-07_cbpr   ->   _2019_07_cbpr\n",
            "    2019-08_cbpr   ->   _2019_08_cbpr\n",
            "    2019-09_cbpr   ->   _2019_09_cbpr\n",
            "    2019-10_cbpr   ->   _2019_10_cbpr\n",
            "    2019-11_cbpr   ->   _2019_11_cbpr\n",
            "    2019-12_cbpr   ->   _2019_12_cbpr\n",
            "    2020-01_cbpr   ->   _2020_01_cbpr\n",
            "    2020-02_cbpr   ->   _2020_02_cbpr\n",
            "    2020-03_cbpr   ->   _2020_03_cbpr\n",
            "    2020-04_cbpr   ->   _2020_04_cbpr\n",
            "    2020-05_cbpr   ->   _2020_05_cbpr\n",
            "    2020-06_cbpr   ->   _2020_06_cbpr\n",
            "    2020-07_cbpr   ->   _2020_07_cbpr\n",
            "    2020-08_cbpr   ->   _2020_08_cbpr\n",
            "    2020-09_cbpr   ->   _2020_09_cbpr\n",
            "    2020-10_cbpr   ->   _2020_10_cbpr\n",
            "    2020-11_cbpr   ->   _2020_11_cbpr\n",
            "    2020-12_cbpr   ->   _2020_12_cbpr\n",
            "    2021-01_cbpr   ->   _2021_01_cbpr\n",
            "    2021-02_cbpr   ->   _2021_02_cbpr\n",
            "    2021-03_cbpr   ->   _2021_03_cbpr\n",
            "    2021-04_cbpr   ->   _2021_04_cbpr\n",
            "    2021-05_cbpr   ->   _2021_05_cbpr\n",
            "    2021-06_cbpr   ->   _2021_06_cbpr\n",
            "    2021-07_cbpr   ->   _2021_07_cbpr\n",
            "    2021-08_cbpr   ->   _2021_08_cbpr\n",
            "    2021-09_cbpr   ->   _2021_09_cbpr\n",
            "    2021-10_cbpr   ->   _2021_10_cbpr\n",
            "    2014-01_cpi   ->   _2014_01_cpi\n",
            "    2014-02_cpi   ->   _2014_02_cpi\n",
            "    2014-03_cpi   ->   _2014_03_cpi\n",
            "    2014-04_cpi   ->   _2014_04_cpi\n",
            "    2014-05_cpi   ->   _2014_05_cpi\n",
            "    2014-06_cpi   ->   _2014_06_cpi\n",
            "    2014-07_cpi   ->   _2014_07_cpi\n",
            "    2014-08_cpi   ->   _2014_08_cpi\n",
            "    2014-09_cpi   ->   _2014_09_cpi\n",
            "    2014-10_cpi   ->   _2014_10_cpi\n",
            "    2014-11_cpi   ->   _2014_11_cpi\n",
            "    2014-12_cpi   ->   _2014_12_cpi\n",
            "    2015-01_cpi   ->   _2015_01_cpi\n",
            "    2015-02_cpi   ->   _2015_02_cpi\n",
            "    2015-03_cpi   ->   _2015_03_cpi\n",
            "    2015-04_cpi   ->   _2015_04_cpi\n",
            "    2015-05_cpi   ->   _2015_05_cpi\n",
            "    2015-06_cpi   ->   _2015_06_cpi\n",
            "    2015-07_cpi   ->   _2015_07_cpi\n",
            "    2015-08_cpi   ->   _2015_08_cpi\n",
            "    2015-09_cpi   ->   _2015_09_cpi\n",
            "    2015-10_cpi   ->   _2015_10_cpi\n",
            "    2015-11_cpi   ->   _2015_11_cpi\n",
            "    2015-12_cpi   ->   _2015_12_cpi\n",
            "    2016-01_cpi   ->   _2016_01_cpi\n",
            "    2016-02_cpi   ->   _2016_02_cpi\n",
            "    2016-03_cpi   ->   _2016_03_cpi\n",
            "    2016-04_cpi   ->   _2016_04_cpi\n",
            "    2016-05_cpi   ->   _2016_05_cpi\n",
            "    2016-06_cpi   ->   _2016_06_cpi\n",
            "    2016-07_cpi   ->   _2016_07_cpi\n",
            "    2016-08_cpi   ->   _2016_08_cpi\n",
            "    2016-09_cpi   ->   _2016_09_cpi\n",
            "    2016-10_cpi   ->   _2016_10_cpi\n",
            "    2016-11_cpi   ->   _2016_11_cpi\n",
            "    2016-12_cpi   ->   _2016_12_cpi\n",
            "    2017-01_cpi   ->   _2017_01_cpi\n",
            "    2017-02_cpi   ->   _2017_02_cpi\n",
            "    2017-03_cpi   ->   _2017_03_cpi\n",
            "    2017-04_cpi   ->   _2017_04_cpi\n",
            "    2017-05_cpi   ->   _2017_05_cpi\n",
            "    2017-06_cpi   ->   _2017_06_cpi\n",
            "    2017-07_cpi   ->   _2017_07_cpi\n",
            "    2017-08_cpi   ->   _2017_08_cpi\n",
            "    2017-09_cpi   ->   _2017_09_cpi\n",
            "    2017-10_cpi   ->   _2017_10_cpi\n",
            "    2017-11_cpi   ->   _2017_11_cpi\n",
            "    2017-12_cpi   ->   _2017_12_cpi\n",
            "    2018-01_cpi   ->   _2018_01_cpi\n",
            "    2018-02_cpi   ->   _2018_02_cpi\n",
            "    2018-03_cpi   ->   _2018_03_cpi\n",
            "    2018-04_cpi   ->   _2018_04_cpi\n",
            "    2018-05_cpi   ->   _2018_05_cpi\n",
            "    2018-06_cpi   ->   _2018_06_cpi\n",
            "    2018-07_cpi   ->   _2018_07_cpi\n",
            "    2018-08_cpi   ->   _2018_08_cpi\n",
            "    2018-09_cpi   ->   _2018_09_cpi\n",
            "    2018-10_cpi   ->   _2018_10_cpi\n",
            "    2018-11_cpi   ->   _2018_11_cpi\n",
            "    2018-12_cpi   ->   _2018_12_cpi\n",
            "    2019-01_cpi   ->   _2019_01_cpi\n",
            "    2019-02_cpi   ->   _2019_02_cpi\n",
            "    2019-03_cpi   ->   _2019_03_cpi\n",
            "    2019-04_cpi   ->   _2019_04_cpi\n",
            "    2019-05_cpi   ->   _2019_05_cpi\n",
            "    2019-06_cpi   ->   _2019_06_cpi\n",
            "    2019-07_cpi   ->   _2019_07_cpi\n",
            "    2019-08_cpi   ->   _2019_08_cpi\n",
            "    2019-09_cpi   ->   _2019_09_cpi\n",
            "    2019-10_cpi   ->   _2019_10_cpi\n",
            "    2019-11_cpi   ->   _2019_11_cpi\n",
            "    2019-12_cpi   ->   _2019_12_cpi\n",
            "    2020-01_cpi   ->   _2020_01_cpi\n",
            "    2020-02_cpi   ->   _2020_02_cpi\n",
            "    2020-03_cpi   ->   _2020_03_cpi\n",
            "    2020-04_cpi   ->   _2020_04_cpi\n",
            "    2020-05_cpi   ->   _2020_05_cpi\n",
            "    2020-06_cpi   ->   _2020_06_cpi\n",
            "    2020-07_cpi   ->   _2020_07_cpi\n",
            "    2020-08_cpi   ->   _2020_08_cpi\n",
            "    2020-09_cpi   ->   _2020_09_cpi\n",
            "    2020-10_cpi   ->   _2020_10_cpi\n",
            "    2020-11_cpi   ->   _2020_11_cpi\n",
            "    2020-12_cpi   ->   _2020_12_cpi\n",
            "    2021-01_cpi   ->   _2021_01_cpi\n",
            "    2021-02_cpi   ->   _2021_02_cpi\n",
            "    2021-03_cpi   ->   _2021_03_cpi\n",
            "    2021-04_cpi   ->   _2021_04_cpi\n",
            "    2021-05_cpi   ->   _2021_05_cpi\n",
            "    2021-06_cpi   ->   _2021_06_cpi\n",
            "    2021-07_cpi   ->   _2021_07_cpi\n",
            "    2021-08_cpi   ->   _2021_08_cpi\n",
            "    2021-09_cpi   ->   _2021_09_cpi\n",
            "    2021-10_cpi   ->   _2021_10_cpi\n",
            "    2014-01   ->   _2014_01\n",
            "    2014-02   ->   _2014_02\n",
            "    2014-03   ->   _2014_03\n",
            "    2014-04   ->   _2014_04\n",
            "    2014-05   ->   _2014_05\n",
            "    2014-06   ->   _2014_06\n",
            "    2014-07   ->   _2014_07\n",
            "    2014-08   ->   _2014_08\n",
            "    2014-09   ->   _2014_09\n",
            "    2014-10   ->   _2014_10\n",
            "    2014-11   ->   _2014_11\n",
            "    2014-12   ->   _2014_12\n",
            "    2015-01   ->   _2015_01\n",
            "    2015-02   ->   _2015_02\n",
            "    2015-03   ->   _2015_03\n",
            "    2015-04   ->   _2015_04\n",
            "    2015-05   ->   _2015_05\n",
            "    2015-06   ->   _2015_06\n",
            "    2015-07   ->   _2015_07\n",
            "    2015-08   ->   _2015_08\n",
            "    2015-09   ->   _2015_09\n",
            "    2015-10   ->   _2015_10\n",
            "    2015-11   ->   _2015_11\n",
            "    2015-12   ->   _2015_12\n",
            "    2016-01   ->   _2016_01\n",
            "    2016-02   ->   _2016_02\n",
            "    2016-03   ->   _2016_03\n",
            "    2016-04   ->   _2016_04\n",
            "    2016-05   ->   _2016_05\n",
            "    2016-06   ->   _2016_06\n",
            "    2016-07   ->   _2016_07\n",
            "    2016-08   ->   _2016_08\n",
            "    2016-09   ->   _2016_09\n",
            "    2016-10   ->   _2016_10\n",
            "    2016-11   ->   _2016_11\n",
            "    2016-12   ->   _2016_12\n",
            "    2017-01   ->   _2017_01\n",
            "    2017-02   ->   _2017_02\n",
            "    2017-03   ->   _2017_03\n",
            "    2017-04   ->   _2017_04\n",
            "    2017-05   ->   _2017_05\n",
            "    2017-06   ->   _2017_06\n",
            "    2017-07   ->   _2017_07\n",
            "    2017-08   ->   _2017_08\n",
            "    2017-09   ->   _2017_09\n",
            "    2017-10   ->   _2017_10\n",
            "    2017-11   ->   _2017_11\n",
            "    2017-12   ->   _2017_12\n",
            "    2018-01   ->   _2018_01\n",
            "    2018-02   ->   _2018_02\n",
            "    2018-03   ->   _2018_03\n",
            "    2018-04   ->   _2018_04\n",
            "    2018-05   ->   _2018_05\n",
            "    2018-06   ->   _2018_06\n",
            "    2018-07   ->   _2018_07\n",
            "    2018-08   ->   _2018_08\n",
            "    2018-09   ->   _2018_09\n",
            "    2018-10   ->   _2018_10\n",
            "    2018-11   ->   _2018_11\n",
            "    2018-12   ->   _2018_12\n",
            "    2019-01   ->   _2019_01\n",
            "    2019-02   ->   _2019_02\n",
            "    2019-03   ->   _2019_03\n",
            "    2019-04   ->   _2019_04\n",
            "    2019-05   ->   _2019_05\n",
            "    2019-06   ->   _2019_06\n",
            "    2019-07   ->   _2019_07\n",
            "    2019-08   ->   _2019_08\n",
            "    2019-09   ->   _2019_09\n",
            "    2019-10   ->   _2019_10\n",
            "    2019-11   ->   _2019_11\n",
            "    2019-12   ->   _2019_12\n",
            "    2020-01   ->   _2020_01\n",
            "    2020-02   ->   _2020_02\n",
            "    2020-03   ->   _2020_03\n",
            "    2020-04   ->   _2020_04\n",
            "    2020-05   ->   _2020_05\n",
            "    2020-06   ->   _2020_06\n",
            "    2020-07   ->   _2020_07\n",
            "    2020-08   ->   _2020_08\n",
            "    2020-09   ->   _2020_09\n",
            "    2020-10   ->   _2020_10\n",
            "    2020-11   ->   _2020_11\n",
            "    2020-12   ->   _2020_12\n",
            "    2021-01   ->   _2021_01\n",
            "    2021-02   ->   _2021_02\n",
            "    2021-03   ->   _2021_03\n",
            "    2021-04   ->   _2021_04\n",
            "    2021-05   ->   _2021_05\n",
            "    2021-06   ->   _2021_06\n",
            "    2021-07   ->   _2021_07\n",
            "    2021-08   ->   _2021_08\n",
            "    2021-09   ->   _2021_09\n",
            "    2021-10   ->   _2021_10\n",
            "\n",
            "If this is not what you expect, please make sure you have Stata-compliant\n",
            "column names in your DataFrame (strings only, max 32 characters, only\n",
            "alphanumerics and underscores, no Stata reserved words)\n",
            "\n",
            "  warnings.warn(ws, InvalidColumnName)\n"
          ]
        }
      ]
    }
  ]
}